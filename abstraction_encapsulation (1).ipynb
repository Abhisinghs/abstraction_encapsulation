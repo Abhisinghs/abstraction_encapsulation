{
 "cells": [
  {
   "cell_type": "code",
   "execution_count": null,
   "id": "74d887b4-d7fc-4f36-b4ff-4182a3ed68cd",
   "metadata": {},
   "outputs": [],
   "source": [
    "Answer-1\n",
    "\n",
    "abstraction is the main concept of object oriented programming language.\n",
    "abstraction can be define as hiding the background data and showing only essential data.\n",
    "example :\n",
    "        when we use Tv and we need to increase the volume to Tv by remote to press \"+\" button to increase the volume of Tv .\n",
    "        we know that \"+\" button is used to increase the volume Tv but we don't know actually how it real work because it\n",
    "        interier working."
   ]
  },
  {
   "cell_type": "code",
   "execution_count": null,
   "id": "558843bd-cc8f-413a-abe8-05230eeaa7a0",
   "metadata": {},
   "outputs": [],
   "source": [
    "Answer-2\n",
    "\n",
    "                 abstraction                                    |                                encapsulation\n",
    "                                                                |\n",
    "abstraction is hiding the background data and showing only      |encapsulation is wrapping up of data into a single unit.\n",
    "essential data.                                                 |              \n",
    "                                                                |\n",
    "abstraction solve the given problem in  design level.           |encapsulation solve the given problem in implementation level.\n",
    "                                                                |\n",
    "Abstraction - outer layout used in  term of design              |encapsulation - inner layout used in term of implementation\n",
    "                                                                |\n",
    "example : outer look like ,mobile phone of display screen and   |example : inner implementation, how the display screen and keypaid button\n",
    "keypaid button .                                                |         are connected to each other using wire.\n",
    "                                                                |\n",
    "                                                                |"
   ]
  },
  {
   "cell_type": "code",
   "execution_count": null,
   "id": "5e7d0e63-ac65-44cc-ba10-2b369c3b3a08",
   "metadata": {},
   "outputs": [],
   "source": [
    "Answer-3\n",
    "\n",
    "\"abc\" module is used to create a abstract class in python using import \"ABC\" class.\n",
    "abstract class can not be instanciated it means we cannot create a object of abstract class so we\n",
    "inherit the  \"ABC\" class that base class is abtract class and it subclasses we can create object of subclasses\n",
    "and use the abstract class method .\n",
    "and it is neccessary to define abstract method of all the subclass that inherit to abstract class."
   ]
  },
  {
   "cell_type": "code",
   "execution_count": null,
   "id": "9b0928e9-ee92-4a8e-9d6e-c14b2b47e1db",
   "metadata": {},
   "outputs": [],
   "source": [
    "Answer-4\n",
    "\n",
    "We can define an abstract method using @abstractmethod keyword on the top of a method. We can use\n",
    "abc module of python to achieve data abstraction in python. To define an abstract method in python we\n",
    "can import abstractmethod from the abc module of python. \n",
    "\n",
    "# abstraction in python\n",
    "from abc import ABC,abstractmethod\n",
    "\n",
    "class Prepbytes(ABC):\n",
    "    @abstractmethod\n",
    "    def my_method(self):\n",
    "        # body will always be empty\n",
    "        Pass"
   ]
  },
  {
   "cell_type": "code",
   "execution_count": null,
   "id": "d9bcb33c-e387-48b1-9d68-ef4eef6d54b2",
   "metadata": {},
   "outputs": [],
   "source": []
  }
 ],
 "metadata": {
  "kernelspec": {
   "display_name": "Python 3 (ipykernel)",
   "language": "python",
   "name": "python3"
  },
  "language_info": {
   "codemirror_mode": {
    "name": "ipython",
    "version": 3
   },
   "file_extension": ".py",
   "mimetype": "text/x-python",
   "name": "python",
   "nbconvert_exporter": "python",
   "pygments_lexer": "ipython3",
   "version": "3.10.8"
  }
 },
 "nbformat": 4,
 "nbformat_minor": 5
}
